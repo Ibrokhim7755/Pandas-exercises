{
 "cells": [
  {
   "cell_type": "code",
   "execution_count": 1,
   "id": "b4d20eea",
   "metadata": {},
   "outputs": [],
   "source": [
    "import pandas as pd \n",
    "import numpy as np\n",
    "import matplotlib.pyplot as plt\n",
    "import seaborn as sns\n",
    "\n",
    "%matplotlib inline"
   ]
  },
  {
   "cell_type": "code",
   "execution_count": 2,
   "id": "f66fe5a6",
   "metadata": {},
   "outputs": [],
   "source": [
    "# uploading the file!!\n",
    "\n",
    "df = pd.read_csv('../Downloads/top_1000_tiktokers.csv')"
   ]
  },
  {
   "cell_type": "code",
   "execution_count": 3,
   "id": "05039d4f",
   "metadata": {},
   "outputs": [
    {
     "data": {
      "text/html": [
       "<div>\n",
       "<style scoped>\n",
       "    .dataframe tbody tr th:only-of-type {\n",
       "        vertical-align: middle;\n",
       "    }\n",
       "\n",
       "    .dataframe tbody tr th {\n",
       "        vertical-align: top;\n",
       "    }\n",
       "\n",
       "    .dataframe thead th {\n",
       "        text-align: right;\n",
       "    }\n",
       "</style>\n",
       "<table border=\"1\" class=\"dataframe\">\n",
       "  <thead>\n",
       "    <tr style=\"text-align: right;\">\n",
       "      <th></th>\n",
       "      <th>Rank</th>\n",
       "      <th>Username</th>\n",
       "      <th>Tiktok Link</th>\n",
       "      <th>Name</th>\n",
       "      <th>Subscribers Count</th>\n",
       "      <th>Views. Avg</th>\n",
       "      <th>Likes. Avg</th>\n",
       "      <th>Comments. Avg</th>\n",
       "      <th>Shares. Avg</th>\n",
       "    </tr>\n",
       "  </thead>\n",
       "  <tbody>\n",
       "    <tr>\n",
       "      <th>0</th>\n",
       "      <td>1</td>\n",
       "      <td>badbunny</td>\n",
       "      <td>https://www.tiktok.com/@badbunny</td>\n",
       "      <td>Bad Bunny</td>\n",
       "      <td>23.4M</td>\n",
       "      <td>63.1M</td>\n",
       "      <td>10.3M</td>\n",
       "      <td>65.2K</td>\n",
       "      <td>108.6K</td>\n",
       "    </tr>\n",
       "    <tr>\n",
       "      <th>1</th>\n",
       "      <td>2</td>\n",
       "      <td>noahschnapp</td>\n",
       "      <td>https://www.tiktok.com/@noahschnapp</td>\n",
       "      <td>Noah Schnapp</td>\n",
       "      <td>26.1M</td>\n",
       "      <td>23.4M</td>\n",
       "      <td>4.8M</td>\n",
       "      <td>46.7K</td>\n",
       "      <td>22.1K</td>\n",
       "    </tr>\n",
       "    <tr>\n",
       "      <th>2</th>\n",
       "      <td>3</td>\n",
       "      <td>khaby.lame</td>\n",
       "      <td>https://www.tiktok.com/@khaby.lame</td>\n",
       "      <td>Khabane lame</td>\n",
       "      <td>145.9M</td>\n",
       "      <td>47.5M</td>\n",
       "      <td>2.5M</td>\n",
       "      <td>46K</td>\n",
       "      <td>9.4K</td>\n",
       "    </tr>\n",
       "    <tr>\n",
       "      <th>3</th>\n",
       "      <td>4</td>\n",
       "      <td>coopernoriega</td>\n",
       "      <td>https://www.tiktok.com/@coopernoriega</td>\n",
       "      <td>Cooper Noriega</td>\n",
       "      <td>3.2M</td>\n",
       "      <td>31M</td>\n",
       "      <td>1.3M</td>\n",
       "      <td>120.9K</td>\n",
       "      <td>8.4K</td>\n",
       "    </tr>\n",
       "    <tr>\n",
       "      <th>4</th>\n",
       "      <td>5</td>\n",
       "      <td>avrillavigne</td>\n",
       "      <td>https://www.tiktok.com/@avrillavigne</td>\n",
       "      <td>Avril Lavigne</td>\n",
       "      <td>4M</td>\n",
       "      <td>24.7M</td>\n",
       "      <td>3.5M</td>\n",
       "      <td>32.1K</td>\n",
       "      <td>22.7K</td>\n",
       "    </tr>\n",
       "  </tbody>\n",
       "</table>\n",
       "</div>"
      ],
      "text/plain": [
       "   Rank       Username                            Tiktok Link            Name  \\\n",
       "0     1       badbunny       https://www.tiktok.com/@badbunny       Bad Bunny   \n",
       "1     2    noahschnapp    https://www.tiktok.com/@noahschnapp    Noah Schnapp   \n",
       "2     3     khaby.lame     https://www.tiktok.com/@khaby.lame    Khabane lame   \n",
       "3     4  coopernoriega  https://www.tiktok.com/@coopernoriega  Cooper Noriega   \n",
       "4     5   avrillavigne   https://www.tiktok.com/@avrillavigne   Avril Lavigne   \n",
       "\n",
       "  Subscribers Count Views. Avg Likes. Avg Comments. Avg Shares. Avg  \n",
       "0             23.4M      63.1M      10.3M         65.2K      108.6K  \n",
       "1             26.1M      23.4M       4.8M         46.7K       22.1K  \n",
       "2            145.9M      47.5M       2.5M           46K        9.4K  \n",
       "3              3.2M        31M       1.3M        120.9K        8.4K  \n",
       "4                4M      24.7M       3.5M         32.1K       22.7K  "
      ]
     },
     "execution_count": 3,
     "metadata": {},
     "output_type": "execute_result"
    }
   ],
   "source": [
    "df.head()"
   ]
  },
  {
   "cell_type": "code",
   "execution_count": 4,
   "id": "02b0cd01",
   "metadata": {},
   "outputs": [
    {
     "name": "stdout",
     "output_type": "stream",
     "text": [
      "<class 'pandas.core.frame.DataFrame'>\n",
      "RangeIndex: 1000 entries, 0 to 999\n",
      "Data columns (total 9 columns):\n",
      " #   Column             Non-Null Count  Dtype \n",
      "---  ------             --------------  ----- \n",
      " 0   Rank               1000 non-null   int64 \n",
      " 1   Username           1000 non-null   object\n",
      " 2   Tiktok Link        1000 non-null   object\n",
      " 3   Name               998 non-null    object\n",
      " 4   Subscribers Count  1000 non-null   object\n",
      " 5   Views. Avg         1000 non-null   object\n",
      " 6   Likes. Avg         1000 non-null   object\n",
      " 7   Comments. Avg      1000 non-null   object\n",
      " 8   Shares. Avg        1000 non-null   object\n",
      "dtypes: int64(1), object(8)\n",
      "memory usage: 70.4+ KB\n"
     ]
    }
   ],
   "source": [
    "# observing the data\n",
    "df.info()"
   ]
  },
  {
   "cell_type": "code",
   "execution_count": 5,
   "id": "e249ee08",
   "metadata": {},
   "outputs": [
    {
     "data": {
      "text/html": [
       "<div>\n",
       "<style scoped>\n",
       "    .dataframe tbody tr th:only-of-type {\n",
       "        vertical-align: middle;\n",
       "    }\n",
       "\n",
       "    .dataframe tbody tr th {\n",
       "        vertical-align: top;\n",
       "    }\n",
       "\n",
       "    .dataframe thead th {\n",
       "        text-align: right;\n",
       "    }\n",
       "</style>\n",
       "<table border=\"1\" class=\"dataframe\">\n",
       "  <thead>\n",
       "    <tr style=\"text-align: right;\">\n",
       "      <th></th>\n",
       "      <th>Rank</th>\n",
       "    </tr>\n",
       "  </thead>\n",
       "  <tbody>\n",
       "    <tr>\n",
       "      <th>count</th>\n",
       "      <td>1000.000000</td>\n",
       "    </tr>\n",
       "    <tr>\n",
       "      <th>mean</th>\n",
       "      <td>500.500000</td>\n",
       "    </tr>\n",
       "    <tr>\n",
       "      <th>std</th>\n",
       "      <td>288.819436</td>\n",
       "    </tr>\n",
       "    <tr>\n",
       "      <th>min</th>\n",
       "      <td>1.000000</td>\n",
       "    </tr>\n",
       "    <tr>\n",
       "      <th>25%</th>\n",
       "      <td>250.750000</td>\n",
       "    </tr>\n",
       "    <tr>\n",
       "      <th>50%</th>\n",
       "      <td>500.500000</td>\n",
       "    </tr>\n",
       "    <tr>\n",
       "      <th>75%</th>\n",
       "      <td>750.250000</td>\n",
       "    </tr>\n",
       "    <tr>\n",
       "      <th>max</th>\n",
       "      <td>1000.000000</td>\n",
       "    </tr>\n",
       "  </tbody>\n",
       "</table>\n",
       "</div>"
      ],
      "text/plain": [
       "              Rank\n",
       "count  1000.000000\n",
       "mean    500.500000\n",
       "std     288.819436\n",
       "min       1.000000\n",
       "25%     250.750000\n",
       "50%     500.500000\n",
       "75%     750.250000\n",
       "max    1000.000000"
      ]
     },
     "execution_count": 5,
     "metadata": {},
     "output_type": "execute_result"
    }
   ],
   "source": [
    "df.describe()"
   ]
  },
  {
   "cell_type": "code",
   "execution_count": 6,
   "id": "d7196efe",
   "metadata": {},
   "outputs": [
    {
     "data": {
      "text/plain": [
       "Rank                 0\n",
       "Username             0\n",
       "Tiktok Link          0\n",
       "Name                 2\n",
       "Subscribers Count    0\n",
       "Views. Avg           0\n",
       "Likes. Avg           0\n",
       "Comments. Avg        0\n",
       "Shares. Avg          0\n",
       "dtype: int64"
      ]
     },
     "execution_count": 6,
     "metadata": {},
     "output_type": "execute_result"
    }
   ],
   "source": [
    "# checking if we have missing data!!\n",
    "\n",
    "df.isna().sum()"
   ]
  },
  {
   "cell_type": "code",
   "execution_count": 7,
   "id": "8bde60d7",
   "metadata": {},
   "outputs": [
    {
     "data": {
      "text/plain": [
       "Rank                 0\n",
       "Username             0\n",
       "Tiktok Link          0\n",
       "Name                 0\n",
       "Subscribers Count    0\n",
       "Views. Avg           0\n",
       "Likes. Avg           0\n",
       "Comments. Avg        0\n",
       "Shares. Avg          0\n",
       "dtype: int64"
      ]
     },
     "execution_count": 7,
     "metadata": {},
     "output_type": "execute_result"
    }
   ],
   "source": [
    "# drop that missing values in the name column\n",
    "df = df.dropna(axis=0)\n",
    "df.isna().sum()"
   ]
  },
  {
   "cell_type": "markdown",
   "id": "7aa8df53",
   "metadata": {},
   "source": [
    "# EDA"
   ]
  },
  {
   "cell_type": "code",
   "execution_count": 8,
   "id": "50b0abab",
   "metadata": {},
   "outputs": [
    {
     "data": {
      "text/html": [
       "<div>\n",
       "<style scoped>\n",
       "    .dataframe tbody tr th:only-of-type {\n",
       "        vertical-align: middle;\n",
       "    }\n",
       "\n",
       "    .dataframe tbody tr th {\n",
       "        vertical-align: top;\n",
       "    }\n",
       "\n",
       "    .dataframe thead th {\n",
       "        text-align: right;\n",
       "    }\n",
       "</style>\n",
       "<table border=\"1\" class=\"dataframe\">\n",
       "  <thead>\n",
       "    <tr style=\"text-align: right;\">\n",
       "      <th></th>\n",
       "      <th>Rank</th>\n",
       "      <th>Username</th>\n",
       "      <th>Tiktok Link</th>\n",
       "      <th>Name</th>\n",
       "      <th>Subscribers Count</th>\n",
       "      <th>Views. Avg</th>\n",
       "      <th>Likes. Avg</th>\n",
       "      <th>Comments. Avg</th>\n",
       "      <th>Shares. Avg</th>\n",
       "    </tr>\n",
       "  </thead>\n",
       "  <tbody>\n",
       "    <tr>\n",
       "      <th>0</th>\n",
       "      <td>1</td>\n",
       "      <td>badbunny</td>\n",
       "      <td>https://www.tiktok.com/@badbunny</td>\n",
       "      <td>Bad Bunny</td>\n",
       "      <td>23.4M</td>\n",
       "      <td>63.1M</td>\n",
       "      <td>10.3M</td>\n",
       "      <td>65.2K</td>\n",
       "      <td>108.6K</td>\n",
       "    </tr>\n",
       "    <tr>\n",
       "      <th>1</th>\n",
       "      <td>2</td>\n",
       "      <td>noahschnapp</td>\n",
       "      <td>https://www.tiktok.com/@noahschnapp</td>\n",
       "      <td>Noah Schnapp</td>\n",
       "      <td>26.1M</td>\n",
       "      <td>23.4M</td>\n",
       "      <td>4.8M</td>\n",
       "      <td>46.7K</td>\n",
       "      <td>22.1K</td>\n",
       "    </tr>\n",
       "    <tr>\n",
       "      <th>2</th>\n",
       "      <td>3</td>\n",
       "      <td>khaby.lame</td>\n",
       "      <td>https://www.tiktok.com/@khaby.lame</td>\n",
       "      <td>Khabane lame</td>\n",
       "      <td>145.9M</td>\n",
       "      <td>47.5M</td>\n",
       "      <td>2.5M</td>\n",
       "      <td>46K</td>\n",
       "      <td>9.4K</td>\n",
       "    </tr>\n",
       "    <tr>\n",
       "      <th>3</th>\n",
       "      <td>4</td>\n",
       "      <td>coopernoriega</td>\n",
       "      <td>https://www.tiktok.com/@coopernoriega</td>\n",
       "      <td>Cooper Noriega</td>\n",
       "      <td>3.2M</td>\n",
       "      <td>31M</td>\n",
       "      <td>1.3M</td>\n",
       "      <td>120.9K</td>\n",
       "      <td>8.4K</td>\n",
       "    </tr>\n",
       "    <tr>\n",
       "      <th>4</th>\n",
       "      <td>5</td>\n",
       "      <td>avrillavigne</td>\n",
       "      <td>https://www.tiktok.com/@avrillavigne</td>\n",
       "      <td>Avril Lavigne</td>\n",
       "      <td>4M</td>\n",
       "      <td>24.7M</td>\n",
       "      <td>3.5M</td>\n",
       "      <td>32.1K</td>\n",
       "      <td>22.7K</td>\n",
       "    </tr>\n",
       "  </tbody>\n",
       "</table>\n",
       "</div>"
      ],
      "text/plain": [
       "   Rank       Username                            Tiktok Link            Name  \\\n",
       "0     1       badbunny       https://www.tiktok.com/@badbunny       Bad Bunny   \n",
       "1     2    noahschnapp    https://www.tiktok.com/@noahschnapp    Noah Schnapp   \n",
       "2     3     khaby.lame     https://www.tiktok.com/@khaby.lame    Khabane lame   \n",
       "3     4  coopernoriega  https://www.tiktok.com/@coopernoriega  Cooper Noriega   \n",
       "4     5   avrillavigne   https://www.tiktok.com/@avrillavigne   Avril Lavigne   \n",
       "\n",
       "  Subscribers Count Views. Avg Likes. Avg Comments. Avg Shares. Avg  \n",
       "0             23.4M      63.1M      10.3M         65.2K      108.6K  \n",
       "1             26.1M      23.4M       4.8M         46.7K       22.1K  \n",
       "2            145.9M      47.5M       2.5M           46K        9.4K  \n",
       "3              3.2M        31M       1.3M        120.9K        8.4K  \n",
       "4                4M      24.7M       3.5M         32.1K       22.7K  "
      ]
     },
     "execution_count": 8,
     "metadata": {},
     "output_type": "execute_result"
    }
   ],
   "source": [
    "df.head()"
   ]
  },
  {
   "cell_type": "code",
   "execution_count": 137,
   "id": "7492de21",
   "metadata": {},
   "outputs": [],
   "source": [
    "# Replacing symbols K and M into numerics^^\n",
    "\n",
    "def symbol(x):\n",
    "    if type(x)==float or type(x)== int:\n",
    "        return x\n",
    "    if 'M' in x:\n",
    "        if len(x)>1:\n",
    "            return float(x.replace('M',''))*1000000\n",
    "        return 1000000.0\n",
    "    if 'K' in x:\n",
    "        if len(x)>1:\n",
    "            return float(x.replace('K',''))*1000\n",
    "        return 1000.0"
   ]
  },
  {
   "cell_type": "code",
   "execution_count": 10,
   "id": "b813a81d",
   "metadata": {},
   "outputs": [
    {
     "data": {
      "text/html": [
       "<div>\n",
       "<style scoped>\n",
       "    .dataframe tbody tr th:only-of-type {\n",
       "        vertical-align: middle;\n",
       "    }\n",
       "\n",
       "    .dataframe tbody tr th {\n",
       "        vertical-align: top;\n",
       "    }\n",
       "\n",
       "    .dataframe thead th {\n",
       "        text-align: right;\n",
       "    }\n",
       "</style>\n",
       "<table border=\"1\" class=\"dataframe\">\n",
       "  <thead>\n",
       "    <tr style=\"text-align: right;\">\n",
       "      <th></th>\n",
       "      <th>Rank</th>\n",
       "      <th>Username</th>\n",
       "      <th>Tiktok Link</th>\n",
       "      <th>Name</th>\n",
       "      <th>Subscribers Count</th>\n",
       "      <th>Views. Avg</th>\n",
       "      <th>Likes. Avg</th>\n",
       "      <th>Comments. Avg</th>\n",
       "      <th>Shares. Avg</th>\n",
       "    </tr>\n",
       "  </thead>\n",
       "  <tbody>\n",
       "    <tr>\n",
       "      <th>0</th>\n",
       "      <td>1</td>\n",
       "      <td>badbunny</td>\n",
       "      <td>https://www.tiktok.com/@badbunny</td>\n",
       "      <td>Bad Bunny</td>\n",
       "      <td>23400000.0</td>\n",
       "      <td>63100000.0</td>\n",
       "      <td>10300000.0</td>\n",
       "      <td>65200.0</td>\n",
       "      <td>108600.0</td>\n",
       "    </tr>\n",
       "    <tr>\n",
       "      <th>1</th>\n",
       "      <td>2</td>\n",
       "      <td>noahschnapp</td>\n",
       "      <td>https://www.tiktok.com/@noahschnapp</td>\n",
       "      <td>Noah Schnapp</td>\n",
       "      <td>26100000.0</td>\n",
       "      <td>23400000.0</td>\n",
       "      <td>4800000.0</td>\n",
       "      <td>46700.0</td>\n",
       "      <td>22100.0</td>\n",
       "    </tr>\n",
       "    <tr>\n",
       "      <th>2</th>\n",
       "      <td>3</td>\n",
       "      <td>khaby.lame</td>\n",
       "      <td>https://www.tiktok.com/@khaby.lame</td>\n",
       "      <td>Khabane lame</td>\n",
       "      <td>145900000.0</td>\n",
       "      <td>47500000.0</td>\n",
       "      <td>2500000.0</td>\n",
       "      <td>46000.0</td>\n",
       "      <td>9400.0</td>\n",
       "    </tr>\n",
       "    <tr>\n",
       "      <th>3</th>\n",
       "      <td>4</td>\n",
       "      <td>coopernoriega</td>\n",
       "      <td>https://www.tiktok.com/@coopernoriega</td>\n",
       "      <td>Cooper Noriega</td>\n",
       "      <td>3200000.0</td>\n",
       "      <td>31000000.0</td>\n",
       "      <td>1300000.0</td>\n",
       "      <td>120900.0</td>\n",
       "      <td>8400.0</td>\n",
       "    </tr>\n",
       "    <tr>\n",
       "      <th>4</th>\n",
       "      <td>5</td>\n",
       "      <td>avrillavigne</td>\n",
       "      <td>https://www.tiktok.com/@avrillavigne</td>\n",
       "      <td>Avril Lavigne</td>\n",
       "      <td>4000000.0</td>\n",
       "      <td>24700000.0</td>\n",
       "      <td>3500000.0</td>\n",
       "      <td>32100.0</td>\n",
       "      <td>22700.0</td>\n",
       "    </tr>\n",
       "  </tbody>\n",
       "</table>\n",
       "</div>"
      ],
      "text/plain": [
       "   Rank       Username                            Tiktok Link            Name  \\\n",
       "0     1       badbunny       https://www.tiktok.com/@badbunny       Bad Bunny   \n",
       "1     2    noahschnapp    https://www.tiktok.com/@noahschnapp    Noah Schnapp   \n",
       "2     3     khaby.lame     https://www.tiktok.com/@khaby.lame    Khabane lame   \n",
       "3     4  coopernoriega  https://www.tiktok.com/@coopernoriega  Cooper Noriega   \n",
       "4     5   avrillavigne   https://www.tiktok.com/@avrillavigne   Avril Lavigne   \n",
       "\n",
       "   Subscribers Count  Views. Avg  Likes. Avg  Comments. Avg  Shares. Avg  \n",
       "0         23400000.0  63100000.0  10300000.0        65200.0     108600.0  \n",
       "1         26100000.0  23400000.0   4800000.0        46700.0      22100.0  \n",
       "2        145900000.0  47500000.0   2500000.0        46000.0       9400.0  \n",
       "3          3200000.0  31000000.0   1300000.0       120900.0       8400.0  \n",
       "4          4000000.0  24700000.0   3500000.0        32100.0      22700.0  "
      ]
     },
     "execution_count": 10,
     "metadata": {},
     "output_type": "execute_result"
    }
   ],
   "source": [
    "df['Subscribers Count'] = df['Subscribers Count'].apply(symbol)\n",
    "df['Views. Avg'] = df['Views. Avg'].apply(symbol)\n",
    "df['Likes. Avg'] = df['Likes. Avg'].apply(symbol)\n",
    "df['Comments. Avg'] = df['Comments. Avg'].apply(symbol)\n",
    "df['Shares. Avg'] = df['Shares. Avg'].apply(symbol)\n",
    "df.head()"
   ]
  },
  {
   "cell_type": "code",
   "execution_count": 11,
   "id": "2ca94f8e",
   "metadata": {},
   "outputs": [
    {
     "data": {
      "text/plain": [
       "Subscribers Count\n",
       "1900000.0    23\n",
       "2100000.0    22\n",
       "1700000.0    17\n",
       "1600000.0    16\n",
       "1100000.0    16\n",
       "1300000.0    16\n",
       "2300000.0    16\n",
       "1400000.0    16\n",
       "1200000.0    15\n",
       "2000000.0    14\n",
       "dtype: int64"
      ]
     },
     "execution_count": 11,
     "metadata": {},
     "output_type": "execute_result"
    }
   ],
   "source": [
    "sub = df.value_counts('Subscribers Count')\n",
    "sub.head(10)"
   ]
  },
  {
   "cell_type": "code",
   "execution_count": 12,
   "id": "3f318069",
   "metadata": {},
   "outputs": [
    {
     "data": {
      "text/plain": [
       "<BarContainer object of 10 artists>"
      ]
     },
     "execution_count": 12,
     "metadata": {},
     "output_type": "execute_result"
    },
    {
     "data": {
      "image/png": "[encoded data removed]",
      "text/plain": [
       "<Figure size 1080x576 with 1 Axes>"
      ]
     },
     "metadata": {
      "needs_background": "light"
     },
     "output_type": "display_data"
    }
   ],
   "source": [
    "plt.figure(figsize=(15,8))\n",
    "plt.bar(sub.values[:10], df['Name'][:10])"
   ]
  },
  {
   "cell_type": "code",
   "execution_count": 135,
   "id": "80a76b4c",
   "metadata": {},
   "outputs": [],
   "source": [
    "def func(df, x, y):\n",
    "    fig,axes = plt.subplots(1,1,figsize=(15, 8))\n",
    "    axes.set_title(y)\n",
    "    axes.set_ylabel(y)\n",
    "    axes.set_xlabel(x)\n",
    "    axes.set_xticklabels(df[x].unique(), rotation=45)\n",
    "    sns.barplot(x, y, data=df, linewidth=2)\n",
    "    axes.legend()\n"
   ]
  },
  {
   "cell_type": "code",
   "execution_count": 136,
   "id": "72cbf165",
   "metadata": {
    "scrolled": true
   },
   "outputs": [
    {
     "name": "stderr",
     "output_type": "stream",
     "text": [
      "C:\\Users\\ibroh\\AppData\\Local\\Temp\\ipykernel_15164\\3059883672.py:6: UserWarning: FixedFormatter should only be used together with FixedLocator\n",
      "  axes.set_xticklabels(df[x].unique(), rotation=45)\n",
      "C:\\Users\\ibroh\\anaconda3\\lib\\site-packages\\seaborn\\_decorators.py:36: FutureWarning: Pass the following variables as keyword args: x, y. From version 0.12, the only valid positional argument will be `data`, and passing other arguments without an explicit keyword will result in an error or misinterpretation.\n",
      "  warnings.warn(\n",
      "No artists with labels found to put in legend.  Note that artists whose label start with an underscore are ignored when legend() is called with no argument.\n"
     ]
    },
    {
     "data": {
      "image/png": "[encoded data removed]",
      "text/plain": [
       "<Figure size 1080x576 with 1 Axes>"
      ]
     },
     "metadata": {
      "needs_background": "light"
     },
     "output_type": "display_data"
    }
   ],
   "source": [
    "func(df[:10], 'Username', 'Subscribers Count')"
   ]
  },
  {
   "cell_type": "code",
   "execution_count": null,
   "id": "6e891da9",
   "metadata": {},
   "outputs": [],
   "source": []
  }
 ],
 "metadata": {
  "kernelspec": {
   "display_name": "Python 3 (ipykernel)",
   "language": "python",
   "name": "python3"
  },
  "language_info": {
   "codemirror_mode": {
    "name": "ipython",
    "version": 3
   },
   "file_extension": ".py",
   "mimetype": "text/x-python",
   "name": "python",
   "nbconvert_exporter": "python",
   "pygments_lexer": "ipython3",
   "version": "3.9.12"
  }
 },
 "nbformat": 4,
 "nbformat_minor": 5
}
